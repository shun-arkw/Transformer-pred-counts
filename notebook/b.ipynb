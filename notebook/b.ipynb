{
 "cells": [
  {
   "cell_type": "markdown",
   "metadata": {},
   "source": [
    "## データセット生成"
   ]
  },
  {
   "cell_type": "code",
   "execution_count": null,
   "metadata": {},
   "outputs": [],
   "source": []
  },
  {
   "cell_type": "code",
   "execution_count": 1,
   "metadata": {},
   "outputs": [
    {
     "name": "stdout",
     "output_type": "stream",
     "text": [
      "/app\n"
     ]
    }
   ],
   "source": [
    "!pwd"
   ]
  },
  {
   "cell_type": "code",
   "execution_count": 2,
   "metadata": {},
   "outputs": [
    {
     "name": "stdout",
     "output_type": "stream",
     "text": [
      "Numbers: [1, 1, 2, 3, 3, 4]\n",
      "Strings: ['a', 'b', 'c', 'd', 'e', 'f']\n"
     ]
    }
   ],
   "source": [
    "A = [((1, 'a'), (1, 'b')), ((2, 'c'), (3, 'd')), ((3, 'e'), (4, 'f'))]\n",
    "numbers = [num for pair in A for num, _ in pair]\n",
    "strings = [s for pair in A for _, s in pair]\n",
    "\n",
    "print(\"Numbers:\", numbers)\n",
    "print(\"Strings:\", strings)"
   ]
  },
  {
   "cell_type": "code",
   "execution_count": 4,
   "metadata": {},
   "outputs": [],
   "source": [
    "load('src/dataset/symbolic_utils.sage')\n",
    "load('src/dataset/groebner.sage')\n",
    "load('src/dataset/symbolic_utils.sage')\n",
    "# load('src/dataset/buchberger.sage')\n",
    "load('src/dataset/count_num_additions.sage')\n",
    "\n",
    "\n",
    "import numpy as np\n",
    "import time\n",
    "import matplotlib.pyplot as plt\n",
    "\n",
    "# これをしないと，sagemathが勝手にintやfloatをinteger型やRealNuber型に変換してしまうしてしまう\n",
    "preparser(False)"
   ]
  },
  {
   "cell_type": "code",
   "execution_count": 11,
   "metadata": {},
   "outputs": [],
   "source": [
    "nvars = 3\n",
    "field = GF(7)\n",
    "\n",
    "file_path = f'./data/pred_nadds/pred_nadds_n={nvars}_field=GF7/data_GF7_n={nvars}.test.lex.infix'\n",
    "\n",
    "\n",
    "Ring = PolynomialRing(GF(7), 'x', nvars)\n",
    "with open(file_path, 'r') as file:\n",
    "    content = file.read()\n",
    "\n",
    "content = content.split('\\n') # 多項式系を要素として持つリスト\n",
    "\n",
    "rets = [preprocess(F_G_str, field, nvars) for F_G_str in content]\n",
    "\n"
   ]
  },
  {
   "cell_type": "code",
   "execution_count": 36,
   "metadata": {},
   "outputs": [
    {
     "name": "stdout",
     "output_type": "stream",
     "text": [
      "[-3*x0^4*x1 - 2*x0^3*x1^2 - 2*x0^3*x1*x2 + x2^5 + 2*x0^3*x1 - 2*x0^2*x2^2 + x0*x2^3 - 3*x2^4 - x0*x2^2 - 3*x2^3 + 3*x0 + x2 - 2, -2*x0^6*x1 + x0^5*x1^2 - 2*x0^4*x1^3 + x0^3*x1^4 + x0^5*x1*x2 + x0^3*x1^3*x2 + 3*x0^2*x2^5 + 2*x1^2*x2^5 - 2*x0*x2^6 - 2*x2^7 - x0^5*x1 - x0^4*x1^2 + 3*x0^3*x1^3 - 2*x0^4*x1*x2 - 2*x0^3*x1^2*x2 + x0^4*x2^2 + x0^3*x1*x2^2 + x0^2*x1^2*x2^2 + 3*x0^3*x2^3 + 3*x0*x1^2*x2^3 - 2*x0^2*x2^4 + x1^2*x2^4 + 2*x0*x2^5 - 2*x1*x2^5 + 2*x2^6 + 3*x0^4*x1 - 2*x0^3*x1^2 + x0^3*x1*x2 - 3*x0^3*x2^2 - 3*x0^2*x1*x2^2 - 3*x0*x1^2*x2^2 - x0^2*x2^3 - 2*x0*x1*x2^3 - 2*x1^2*x2^3 + x0*x2^4 - x1*x2^4 - 2*x0^3*x1 + 2*x0^2*x2^2 + 2*x0*x1*x2^2 + 3*x0*x2^3 - x1*x2^3 - x2^4 + 2*x0^3 + x0*x1^2 + 3*x0^2*x2 + 2*x1^2*x2 - x0*x2^2 + 2*x1*x2^2 + 3*x2^3 + x0^2 + 3*x0*x1 - x1^2 - 2*x0*x2 + 2*x1*x2 - 2*x2^2 - x0 + 2*x1 + 3, 2*x0^4*x1^4 - x0^3*x1^5 - x0^3*x1^4*x2 - 3*x0*x1^2*x2^5 + 2*x1^3*x2^5 + x0^2*x2^6 + 3*x0*x1*x2^6 + x1^2*x2^6 + 3*x0*x2^7 + 3*x1*x2^7 + 2*x2^8 + x0^3*x1^4 - x0^5*x1*x2 - 3*x0^4*x1^2*x2 - 3*x0^4*x1*x2^2 - x0^2*x1^3*x2^2 - 3*x0*x1^3*x2^3 + 2*x0*x1^2*x2^4 + x1^3*x2^4 - x0^2*x2^5 - 3*x0*x1*x2^5 - 3*x1^2*x2^5 - 2*x1*x2^6 + x2^7 - 3*x0^4*x1^2 - 2*x0^3*x1^3 + 3*x0^4*x1*x2 - 2*x0^3*x1^2*x2 + 3*x0*x1^3*x2^2 - 3*x0^3*x2^3 + 2*x1^3*x2^3 - x0^2*x2^4 + 3*x0*x1*x2^4 + 3*x0*x2^5 - 3*x2^6 - 2*x0^4*x1 + 3*x0^3*x1^2 + x0^3*x1*x2 - 2*x0*x1^3*x2 - 2*x0^2*x1*x2^2 + 2*x0^2*x2^3 + x0*x1*x2^3 - 2*x2^5 - x0^3*x1 - 3*x0^2*x1^2 + 3*x0*x1^3 - 2*x0*x1^2*x2 + x1^3*x2 + 2*x0^2*x2^2 + x0*x1*x2^2 - 2*x1^2*x2^2 - x0*x2^3 + 2*x1*x2^3 - 2*x2^4 - x0^2*x1 - 2*x0*x1^2 + 2*x1^3 - x0^2*x2 + 2*x0*x1*x2 + 3*x1^2*x2 - 2*x0*x2^2 - x0^2 + x0*x1 + 3*x1^2 + 3*x1*x2 + x0 + x1 + 3*x2 - 1, 2*x0*x1^5*x2^5 - 3*x0^2*x1^3*x2^6 - 3*x0*x1^3*x2^7 + x0*x1^5*x2^4 + 3*x0^2*x1^3*x2^5 + 2*x0*x1^3*x2^6 - x0*x1^2*x2^7 - 2*x0^2*x2^8 - 2*x0*x2^9 - 3*x0^2*x1^3*x2^4 + x0*x1^3*x2^5 + 2*x0*x1^2*x2^6 - 3*x0*x2^8 - 3*x0*x1^3*x2^4 + 3*x0*x1^2*x2^5 - 2*x1^3*x2^5 + 3*x0*x1*x2^6 + 2*x0*x2^7 + 3*x1*x2^7 + 2*x0^2*x1^5 + 2*x0*x1^5*x2 - 3*x0^2*x1^3*x2^2 + 3*x0*x1^4*x2^2 - x1^3*x2^4 - 2*x0^2*x2^5 - 3*x0*x1*x2^5 + x1^2*x2^5 + 3*x0*x2^6 - 2*x1*x2^6 + 2*x2^7 + 3*x0^5*x1 + 2*x0^4*x1^2 + 3*x0^2*x1^4 - 3*x0*x1^5 - 2*x0^4*x1*x2 + 2*x0^3*x1^2*x2 + 2*x0*x1^4*x2 + 2*x0^3*x1*x2^2 - x0^2*x1^2*x2^2 + 3*x0*x1^3*x2^2 - x0*x1^2*x2^3 - 2*x0^2*x2^4 - 2*x0*x1*x2^4 - 3*x1^2*x2^4 + x0*x2^5 - x2^6 - 2*x0^4*x1 + 3*x0^2*x1^3 - 3*x0*x1^4 - 2*x0^3*x1*x2 - x0^2*x1^2*x2 + 3*x0*x1^3*x2 - 2*x1^4*x2 + 2*x0^3*x2^2 + 2*x0^2*x1*x2^2 - 3*x0*x1^2*x2^2 - x0^2*x2^3 + x0*x1*x2^3 + 2*x0*x2^4 - x0*x1^3 - 2*x0^3*x2 + x0^2*x1*x2 + x0*x1^2*x2 - 2*x1^3*x2 - x0^2*x2^2 - 3*x0*x1*x2^2 - 3*x1^2*x2^2 + x1*x2^3 - 2*x0*x1^2 + 3*x1^3 + x0^2*x2 + 2*x1^2*x2 + 3*x0*x2^2 + 2*x1*x2^2 - 3*x0^2 - 2*x0*x1 + 3*x0*x2 - x1*x2 + 3*x2^2 - 2*x0 + x1 + 3*x2 - 2, 3*x0^6*x1^3 + 2*x0^5*x1^4 + 2*x0^5*x1^3*x2 + 2*x0^3*x1*x2^5 - 3*x0^2*x1^2*x2^5 + 2*x0^2*x1*x2^6 - 2*x0^5*x1^3 + 2*x0^4*x1^2*x2^2 - x0^3*x1^2*x2^3 + x0^3*x1*x2^4 + 2*x0^2*x1^2*x2^4 - 2*x0^3*x2^5 + 2*x0^2*x1*x2^5 + 3*x1^3*x2^5 - 2*x0^2*x2^6 - x0*x1*x2^6 + 3*x1^2*x2^6 - x0*x2^7 - x1*x2^7 - x2^8 + x0^3*x1^4 - 3*x0^4*x1^2*x2 - x0^3*x1^3*x2 + x0^3*x1^2*x2^2 + 2*x0^3*x1*x2^3 + 3*x0^2*x1^2*x2^3 - x0^3*x2^4 - 3*x0^2*x1*x2^4 - 2*x1^3*x2^4 + x0*x1*x2^5 - 3*x1^2*x2^5 - 3*x0*x2^6 - x1*x2^6 - x2^7 - x0^5*x1 - 3*x0^4*x1^2 - x0^3*x1^3 - x0^4*x1*x2 + x0*x1^4*x2 - 3*x0^3*x1*x2^2 - 2*x0^3*x2^3 - 2*x0^2*x1*x2^3 - 3*x0^2*x2^4 + 3*x1^2*x2^4 - 2*x0*x2^5 + 3*x1*x2^5 + x2^6 - x0^4*x1 - 3*x0^3*x1^2 - 2*x0^3*x1*x2 - 3*x0^2*x1^2*x2 - x0*x1^3*x2 - 3*x1^4*x2 - 3*x0^3*x2^2 + 2*x0^2*x1*x2^2 - x0*x1^2*x2^2 - 3*x0^2*x2^3 - x0*x2^4 + 3*x1*x2^4 + x2^5 - 3*x0^4 + 2*x0^3*x1 + 3*x0*x1^3 + 3*x0^3*x2 + 2*x0^2*x1*x2 + 3*x0*x1^2*x2 + 3*x1^3*x2 - x0*x1*x2^2 - 3*x1^2*x2^2 + x0*x2^3 - x1*x2^3 - 2*x0^3 - 3*x0^2*x1 - x1^3 - x0^2*x2 + 3*x0*x1*x2 - x0*x2^2 + x1*x2^2 - x2^3 - x0^2 - 2*x0*x1 - 2*x0*x2 - x1*x2 + x2^2 + 3*x1 + x2 - 2]\n",
      "[[  18  327  323]\n",
      " [ 302  -99  -99]\n",
      " [ 452 -180 -316]]\n"
     ]
    },
    {
     "name": "stdout",
     "output_type": "stream",
     "text": [
      "1.098059892654419\n",
      "20001\n",
      "[[  18  327  323]\n",
      " [ 302  -99  -99]\n",
      " [ 452 -180 -316]]\n",
      "[-3*x0^4*x1 - 2*x0^3*x1^2 - 2*x0^3*x1*x2 + x2^5 + 2*x0^3*x1 - 2*x0^2*x2^2 + x0*x2^3 - 3*x2^4 - x0*x2^2 - 3*x2^3 + 3*x0 + x2 - 2, -2*x0^6*x1 + x0^5*x1^2 - 2*x0^4*x1^3 + x0^3*x1^4 + x0^5*x1*x2 + x0^3*x1^3*x2 + 3*x0^2*x2^5 + 2*x1^2*x2^5 - 2*x0*x2^6 - 2*x2^7 - x0^5*x1 - x0^4*x1^2 + 3*x0^3*x1^3 - 2*x0^4*x1*x2 - 2*x0^3*x1^2*x2 + x0^4*x2^2 + x0^3*x1*x2^2 + x0^2*x1^2*x2^2 + 3*x0^3*x2^3 + 3*x0*x1^2*x2^3 - 2*x0^2*x2^4 + x1^2*x2^4 + 2*x0*x2^5 - 2*x1*x2^5 + 2*x2^6 + 3*x0^4*x1 - 2*x0^3*x1^2 + x0^3*x1*x2 - 3*x0^3*x2^2 - 3*x0^2*x1*x2^2 - 3*x0*x1^2*x2^2 - x0^2*x2^3 - 2*x0*x1*x2^3 - 2*x1^2*x2^3 + x0*x2^4 - x1*x2^4 - 2*x0^3*x1 + 2*x0^2*x2^2 + 2*x0*x1*x2^2 + 3*x0*x2^3 - x1*x2^3 - x2^4 + 2*x0^3 + x0*x1^2 + 3*x0^2*x2 + 2*x1^2*x2 - x0*x2^2 + 2*x1*x2^2 + 3*x2^3 + x0^2 + 3*x0*x1 - x1^2 - 2*x0*x2 + 2*x1*x2 - 2*x2^2 - x0 + 2*x1 + 3, 2*x0^4*x1^4 - x0^3*x1^5 - x0^3*x1^4*x2 - 3*x0*x1^2*x2^5 + 2*x1^3*x2^5 + x0^2*x2^6 + 3*x0*x1*x2^6 + x1^2*x2^6 + 3*x0*x2^7 + 3*x1*x2^7 + 2*x2^8 + x0^3*x1^4 - x0^5*x1*x2 - 3*x0^4*x1^2*x2 - 3*x0^4*x1*x2^2 - x0^2*x1^3*x2^2 - 3*x0*x1^3*x2^3 + 2*x0*x1^2*x2^4 + x1^3*x2^4 - x0^2*x2^5 - 3*x0*x1*x2^5 - 3*x1^2*x2^5 - 2*x1*x2^6 + x2^7 - 3*x0^4*x1^2 - 2*x0^3*x1^3 + 3*x0^4*x1*x2 - 2*x0^3*x1^2*x2 + 3*x0*x1^3*x2^2 - 3*x0^3*x2^3 + 2*x1^3*x2^3 - x0^2*x2^4 + 3*x0*x1*x2^4 + 3*x0*x2^5 - 3*x2^6 - 2*x0^4*x1 + 3*x0^3*x1^2 + x0^3*x1*x2 - 2*x0*x1^3*x2 - 2*x0^2*x1*x2^2 + 2*x0^2*x2^3 + x0*x1*x2^3 - 2*x2^5 - x0^3*x1 - 3*x0^2*x1^2 + 3*x0*x1^3 - 2*x0*x1^2*x2 + x1^3*x2 + 2*x0^2*x2^2 + x0*x1*x2^2 - 2*x1^2*x2^2 - x0*x2^3 + 2*x1*x2^3 - 2*x2^4 - x0^2*x1 - 2*x0*x1^2 + 2*x1^3 - x0^2*x2 + 2*x0*x1*x2 + 3*x1^2*x2 - 2*x0*x2^2 - x0^2 + x0*x1 + 3*x1^2 + 3*x1*x2 + x0 + x1 + 3*x2 - 1, 2*x0*x1^5*x2^5 - 3*x0^2*x1^3*x2^6 - 3*x0*x1^3*x2^7 + x0*x1^5*x2^4 + 3*x0^2*x1^3*x2^5 + 2*x0*x1^3*x2^6 - x0*x1^2*x2^7 - 2*x0^2*x2^8 - 2*x0*x2^9 - 3*x0^2*x1^3*x2^4 + x0*x1^3*x2^5 + 2*x0*x1^2*x2^6 - 3*x0*x2^8 - 3*x0*x1^3*x2^4 + 3*x0*x1^2*x2^5 - 2*x1^3*x2^5 + 3*x0*x1*x2^6 + 2*x0*x2^7 + 3*x1*x2^7 + 2*x0^2*x1^5 + 2*x0*x1^5*x2 - 3*x0^2*x1^3*x2^2 + 3*x0*x1^4*x2^2 - x1^3*x2^4 - 2*x0^2*x2^5 - 3*x0*x1*x2^5 + x1^2*x2^5 + 3*x0*x2^6 - 2*x1*x2^6 + 2*x2^7 + 3*x0^5*x1 + 2*x0^4*x1^2 + 3*x0^2*x1^4 - 3*x0*x1^5 - 2*x0^4*x1*x2 + 2*x0^3*x1^2*x2 + 2*x0*x1^4*x2 + 2*x0^3*x1*x2^2 - x0^2*x1^2*x2^2 + 3*x0*x1^3*x2^2 - x0*x1^2*x2^3 - 2*x0^2*x2^4 - 2*x0*x1*x2^4 - 3*x1^2*x2^4 + x0*x2^5 - x2^6 - 2*x0^4*x1 + 3*x0^2*x1^3 - 3*x0*x1^4 - 2*x0^3*x1*x2 - x0^2*x1^2*x2 + 3*x0*x1^3*x2 - 2*x1^4*x2 + 2*x0^3*x2^2 + 2*x0^2*x1*x2^2 - 3*x0*x1^2*x2^2 - x0^2*x2^3 + x0*x1*x2^3 + 2*x0*x2^4 - x0*x1^3 - 2*x0^3*x2 + x0^2*x1*x2 + x0*x1^2*x2 - 2*x1^3*x2 - x0^2*x2^2 - 3*x0*x1*x2^2 - 3*x1^2*x2^2 + x1*x2^3 - 2*x0*x1^2 + 3*x1^3 + x0^2*x2 + 2*x1^2*x2 + 3*x0*x2^2 + 2*x1*x2^2 - 3*x0^2 - 2*x0*x1 + 3*x0*x2 - x1*x2 + 3*x2^2 - 2*x0 + x1 + 3*x2 - 2, 3*x0^6*x1^3 + 2*x0^5*x1^4 + 2*x0^5*x1^3*x2 + 2*x0^3*x1*x2^5 - 3*x0^2*x1^2*x2^5 + 2*x0^2*x1*x2^6 - 2*x0^5*x1^3 + 2*x0^4*x1^2*x2^2 - x0^3*x1^2*x2^3 + x0^3*x1*x2^4 + 2*x0^2*x1^2*x2^4 - 2*x0^3*x2^5 + 2*x0^2*x1*x2^5 + 3*x1^3*x2^5 - 2*x0^2*x2^6 - x0*x1*x2^6 + 3*x1^2*x2^6 - x0*x2^7 - x1*x2^7 - x2^8 + x0^3*x1^4 - 3*x0^4*x1^2*x2 - x0^3*x1^3*x2 + x0^3*x1^2*x2^2 + 2*x0^3*x1*x2^3 + 3*x0^2*x1^2*x2^3 - x0^3*x2^4 - 3*x0^2*x1*x2^4 - 2*x1^3*x2^4 + x0*x1*x2^5 - 3*x1^2*x2^5 - 3*x0*x2^6 - x1*x2^6 - x2^7 - x0^5*x1 - 3*x0^4*x1^2 - x0^3*x1^3 - x0^4*x1*x2 + x0*x1^4*x2 - 3*x0^3*x1*x2^2 - 2*x0^3*x2^3 - 2*x0^2*x1*x2^3 - 3*x0^2*x2^4 + 3*x1^2*x2^4 - 2*x0*x2^5 + 3*x1*x2^5 + x2^6 - x0^4*x1 - 3*x0^3*x1^2 - 2*x0^3*x1*x2 - 3*x0^2*x1^2*x2 - x0*x1^3*x2 - 3*x1^4*x2 - 3*x0^3*x2^2 + 2*x0^2*x1*x2^2 - x0*x1^2*x2^2 - 3*x0^2*x2^3 - x0*x2^4 + 3*x1*x2^4 + x2^5 - 3*x0^4 + 2*x0^3*x1 + 3*x0*x1^3 + 3*x0^3*x2 + 2*x0^2*x1*x2 + 3*x0*x1^2*x2 + 3*x1^3*x2 - x0*x1*x2^2 - 3*x1^2*x2^2 + x0*x2^3 - x1*x2^3 - 2*x0^3 - 3*x0^2*x1 - x1^3 - x0^2*x2 + 3*x0*x1*x2 - x0*x2^2 + x1*x2^2 - x2^3 - x0^2 - 2*x0*x1 - 2*x0*x2 - x1*x2 + x2^2 + 3*x1 + x2 - 2]\n",
      "1.059882402420044\n",
      "20088\n",
      "[] True\n",
      "[] True\n",
      "0.13215351104736328\n",
      "[x1 + x2, x0 - 3, x2^5 - 3*x2^4 + x2] True\n",
      "14713\n"
     ]
    }
   ],
   "source": [
    "while True:\n",
    "    # weight_matrix = np.random.randint(-1000, 1000, size=(nvars, nvars))\n",
    "    weight_matrix = np.random.normal(0, 300, size=(nvars, nvars)).astype(int)\n",
    "\n",
    "    weight_matrix[0, :] = np.abs(weight_matrix[0, :])\n",
    "    \n",
    "    if validation(weight_matrix):\n",
    "        break\n",
    "\n",
    "id = 4\n",
    "data, _, _ = zip(*rets)\n",
    "F = data[id]\n",
    "\n",
    "threshold = 20000\n",
    "\n",
    "# weight_matrix_grev = to_matrix(nvars, 'grevlex')\n",
    "print(F)\n",
    "print(weight_matrix)\n",
    "num_additions_counter = NumAdditionsCounter(weight_matrix, polynomial_list=F, coeff_field=field, num_variables=nvars, select_strategy='normal', stop_algorithm=True, threshold=threshold)\n",
    "\n",
    "start = time.time()\n",
    "GB_1, nadds_1 = num_additions_counter.run()\n",
    "print(time.time() - start)\n",
    "\n",
    "print(nadds_1)\n",
    "print(weight_matrix)\n",
    "print(F)\n",
    "Ring = PolynomialRing(field, 'x', nvars)\n",
    "\n",
    "start = time.time()\n",
    "GB_2, nadds_2 = count_nadds(weight_matrix, polynomial_list=F, coeff_field=field, num_variables=nvars, select_strategy='normal', stop_algorithm=True, threshold=threshold)\n",
    "print(time.time() - start)\n",
    "print(nadds_2)\n",
    "\n",
    "print(GB_1, is_groebner(Ring, GB_1))\n",
    "print(GB_2, is_groebner(Ring, GB_2))\n",
    "\n",
    "\n",
    "num_additions_counter = NumAdditionsCounter('grevlex', polynomial_list=F, coeff_field=field, num_variables=nvars, select_strategy='normal', stop_algorithm=True, threshold=threshold)\n",
    "strat = time.time()\n",
    "GB_3, nadds_3 = num_additions_counter.run()\n",
    "print(time.time() - strat)\n",
    "print(GB_3, is_groebner(Ring, GB_3))\n",
    "\n",
    "print(nadds_3)"
   ]
  },
  {
   "cell_type": "code",
   "execution_count": 23,
   "metadata": {},
   "outputs": [],
   "source": [
    "max_itr = 10\n",
    "threshold = 5000\n",
    "result = np.zeros((0, 2))\n",
    "\n",
    "\n",
    "np.random.seed(1)\n",
    "max_sample = 5\n",
    "\n",
    "for ret in rets:\n",
    "    \n",
    "    F, F_str, num_tokens_F = ret\n",
    "    if num_tokens_F > 1000 or num_tokens_F < 500:\n",
    "        continue\n",
    "\n",
    "    num_additions_counter = NumAdditionsCounter('grevlex', polynomial_list=F, coeff_field=field, num_variables=nvars, select_strategy='normal', stop_algorithm=True, threshold=threshold)\n",
    "\n",
    "    _, nadds_grev = num_additions_counter.run()\n",
    "\n",
    "    for i in range(max_itr):\n",
    "\n",
    "        while True:\n",
    "            weight_matrix = np.random.randint(-1000, 1000, size=(nvars, nvars))\n",
    "            weight_matrix[0, :] = np.abs(weight_matrix[0, :])\n",
    "            \n",
    "            if validation(weight_matrix):\n",
    "                break\n",
    "                \n",
    "\n",
    "        num_additions_counter = NumAdditionsCounter(weight_matrix, polynomial_list=F, coeff_field=field, num_variables=nvars, select_strategy='normal', stop_algorithm=True, threshold=threshold)\n",
    "        _, nadds = num_additions_counter.run() \n",
    "    \n",
    "        if nadds <= threshold or max_itr - 1 == i:\n",
    "            break\n",
    "    \n",
    "    result = np.vstack((result, np.array([nadds_grev, nadds])))\n"
   ]
  },
  {
   "cell_type": "code",
   "execution_count": 24,
   "metadata": {},
   "outputs": [
    {
     "name": "stdout",
     "output_type": "stream",
     "text": [
      "[5002. 5001.]\n",
      "[18. 18.]\n",
      "[1023.83444339 1262.25927688]\n",
      "[329.5 560. ]\n",
      "grev  111\n",
      "random  35\n"
     ]
    }
   ],
   "source": [
    "print(np.max(result, axis=0))\n",
    "print(np.min(result, axis=0))\n",
    "print(np.mean(result, axis=0))\n",
    "print(np.median(result, axis=0))\n",
    "\n",
    "\n",
    "print('grev ', sum(result[:, 0] >= threshold))\n",
    "print('random ', sum(result[:, 1] >= threshold))\n"
   ]
  },
  {
   "cell_type": "code",
   "execution_count": 31,
   "metadata": {},
   "outputs": [
    {
     "data": {
      "image/png": "[encoded data removed]",
      "text/plain": [
       "<Figure size 1200x600 with 2 Axes>"
      ]
     },
     "metadata": {},
     "output_type": "display_data"
    }
   ],
   "source": [
    "plt.figure(figsize=(12, 6))\n",
    "\n",
    "# Plot histogram for result[:, 0]\n",
    "plt.subplot(1, 2, 1)\n",
    "plt.hist(result[:, 0], bins=100, color='red')\n",
    "plt.title('grevlex')\n",
    "plt.xlabel('the number of polynomial additions')\n",
    "plt.ylabel('Frequency')\n",
    "\n",
    "# Plot histogram for result[:, 1]\n",
    "plt.subplot(1, 2, 2)\n",
    "plt.hist(result[:, 1], bins=100, color='blue')\n",
    "plt.title('random')\n",
    "plt.xlabel('the number of polynomial additions')\n",
    "plt.ylabel('Frequency')\n",
    "\n",
    "plt.tight_layout()\n",
    "plt.show()"
   ]
  },
  {
   "cell_type": "code",
   "execution_count": 26,
   "metadata": {},
   "outputs": [
    {
     "data": {
      "image/png": "[encoded data removed]",
      "text/plain": [
       "<Figure size 640x480 with 1 Axes>"
      ]
     },
     "metadata": {},
     "output_type": "display_data"
    }
   ],
   "source": [
    "plt.hist(result[:, 0], bins=100, edgecolor='black')\n",
    "plt.title('Histogram of the number of additions')\n",
    "\n",
    "# plt.xlim(0, 2000)\n",
    "# plt.ylim(0, 800)\n",
    "plt.xlabel('The number of additions')\n",
    "plt.ylabel('Frequency')\n",
    "plt.show()"
   ]
  },
  {
   "cell_type": "code",
   "execution_count": null,
   "metadata": {},
   "outputs": [],
   "source": []
  },
  {
   "cell_type": "code",
   "execution_count": null,
   "metadata": {},
   "outputs": [],
   "source": [
    "b = np.random.normal(\n",
    "    loc   = 0,      # 平均\n",
    "    scale = 300,    # 標準偏差\n",
    "    size  = 1000000,# 出力配列のサイズ(タプルも可)\n",
    ")\n",
    "\n",
    "plt.hist(b,bins=1000)\n",
    "plt.xlim(-1000,1000)"
   ]
  },
  {
   "cell_type": "code",
   "execution_count": null,
   "metadata": {},
   "outputs": [],
   "source": [
    "timeout = 2\n",
    "\n",
    "all_nadds = np.array([])\n",
    "max_itr = 1\n",
    "threshold = 10000\n",
    "\n",
    "np.random.seed(42)\n",
    "results = {}\n",
    "for F_str in content[:1000]:\n",
    "    F_str = F_str.split(':')[0]\n",
    "    F_str = F_str.split('[SEP]')\n",
    "    \n",
    "\n",
    "    F_str = [f_str.strip() for f_str in F_str] # 両端の空白文字を削除\n",
    "    print(F_str)\n",
    "    # results[\"non_groebner\"] = F_str\n",
    "\n",
    "    F = [sequence_to_poly(f_str, Ring) for f_str in F_str]\n",
    "    print(F)\n",
    "\n",
    "    # weight_matrix = to_matrix(nvars, 'grevlex')\n",
    "    for _ in range(max_itr):\n",
    "\n",
    "        while True:\n",
    "            # weight_matrix = np.random.randint(-1000, 1000, size=(nvars, nvars))\n",
    "            weight_matrix = np.random.normal(0, 300, size=(nvars, nvars)).astype(int)\n",
    "            weight_matrix[0, :] = np.abs(weight_matrix[0, :])\n",
    "            \n",
    "            if validation(weight_matrix):\n",
    "                break\n",
    "                \n",
    "        start = time.time()\n",
    "        nadds = count_nadds(weight_matrix, polynomial_list=F, coeff_field=field, num_variables=nvars, select_strategy='normal', stop_algorithm=True, threshold=threshold)\n",
    "        end = time.time()\n",
    "\n",
    "        if end - start < timeout:\n",
    "            all_nadds = np.append(all_nadds, nadds)\n",
    "            break\n",
    "        else:\n",
    "            all_nadds = np.append(all_nadds, threshold)\n",
    "            break\n",
    "            \n",
    "\n",
    "        if nadds <= threshold:\n",
    "            weight_matrix = weight_matrix.reshape(-1)\n",
    "            print(weight_matrix)\n",
    "            # results['weight_matrix'] = weight_matrix\n",
    "            print(nadds)\n",
    "            \n",
    "            all_nadds = np.append(all_nadds, nadds)\n",
    "            break\n",
    "    print()"
   ]
  },
  {
   "cell_type": "code",
   "execution_count": null,
   "metadata": {},
   "outputs": [],
   "source": [
    "print(np.max(all_nadds))\n",
    "print(np.min(all_nadds))\n",
    "print(np.mean(all_nadds))\n",
    "print(np.median(all_nadds))\n",
    "print(len(all_nadds))\n",
    "\n",
    "sum(all_nadds >= threshold)\n"
   ]
  },
  {
   "cell_type": "code",
   "execution_count": null,
   "metadata": {},
   "outputs": [],
   "source": [
    "ret = plt.hist(all_nadds, bins=10, range=(0, 10000))\n",
    "print(ret)\n",
    "counts, bin_edges = ret[0], ret[1]\n",
    "print(\"Counts:\", counts)\n",
    "print(\"Bin edges:\", bin_edges)"
   ]
  },
  {
   "cell_type": "code",
   "execution_count": null,
   "metadata": {},
   "outputs": [],
   "source": [
    "200 > all_nadds and all_nadds > 100"
   ]
  },
  {
   "cell_type": "code",
   "execution_count": null,
   "metadata": {},
   "outputs": [],
   "source": [
    "import matplotlib.pyplot as plt\n",
    "\n",
    "plt.hist(all_nadds, bins=100, edgecolor='black')\n",
    "plt.title('Histogram of all_nadds')\n",
    "\n",
    "# plt.xlim(0, 2000)\n",
    "# plt.ylim(0, 800)\n",
    "plt.xlabel('Value')\n",
    "plt.ylabel('Frequency')\n",
    "plt.show()"
   ]
  },
  {
   "cell_type": "code",
   "execution_count": null,
   "metadata": {},
   "outputs": [],
   "source": [
    "weight_matrix = np.random.randint(-100000000, 100000001, size=(3, 3))\n",
    "print(weight_matrix) \n",
    "weight_matrix[0, :] = np.abs(weight_matrix[0, :])\n",
    "\n",
    "print(weight_matrix)\n",
    "str(weight_matrix.reshape(-1).tolist())"
   ]
  },
  {
   "cell_type": "code",
   "execution_count": null,
   "metadata": {},
   "outputs": [],
   "source": [
    "content[:10]"
   ]
  },
  {
   "cell_type": "code",
   "execution_count": 9,
   "metadata": {},
   "outputs": [],
   "source": [
    "def get_matrix_nadds(F_G_str, nvars, field, max_itr=100, threshold=10000):\n",
    "    F_str_org = F_G_str.split(':')[0]\n",
    "    F_str = F_str_org.split('[SEP]')\n",
    "\n",
    "    F_str = [f_str.strip() for f_str in F_str] # 両端の空白文字を削除\n",
    "    print(F_str)\n",
    "\n",
    "    Ring = PolynomialRing(field, 'x', nvars)\n",
    "    F = [sequence_to_poly(f_str, Ring) for f_str in F_str]\n",
    "    print(F)\n",
    "\n",
    "    for _ in range(max_itr):\n",
    "\n",
    "        while True:\n",
    "            weight_matrix = np.random.randint(-100000000, 100000001, size=(nvars, nvars))\n",
    "            weight_matrix[0, :] = np.abs(weight_matrix[0, :])\n",
    "            \n",
    "            if validation(weight_matrix):\n",
    "                break\n",
    "    \n",
    "        nadds = count_nadds(weight_matrix, polynomial_list=F, coeff_field=field, num_variables=nvars, select_strategy='normal', stop_algorithm=True, threshold=threshold)\n",
    "\n",
    "        if nadds <= threshold:\n",
    "            weight_matrix = weight_matrix.reshape(-1)\n",
    "            weight_matrix = str(weight_matrix.tolist())\n",
    "            print(weight_matrix)\n",
    "            nadds = str(nadds)\n",
    "            print(nadds)\n",
    "            break\n",
    "    # return F_str_org + \": <weight_matrix> \" + weight_matrix + ' <nadds> ' + nadds\n",
    "    return F_str_org + \" : \" + weight_matrix + ' : ' + nadds\n",
    "\n",
    "    "
   ]
  },
  {
   "cell_type": "code",
   "execution_count": null,
   "metadata": {},
   "outputs": [],
   "source": [
    "A = np.array([1, 2, 3])\n",
    "B = A.astype(str)\n",
    "\n",
    "sum=''\n",
    "for b in B:\n",
    "    sum += b\n",
    "    sum += ' '\n",
    "print(sum)\n",
    "print(type(sum))\n",
    "print(B.dtype)\n",
    "print(B)\n",
    "C = B.tolist()\n",
    "C"
   ]
  },
  {
   "cell_type": "code",
   "execution_count": null,
   "metadata": {},
   "outputs": [],
   "source": [
    "field = GF(7)\n",
    "F_matrix_nadds = []\n",
    "for F_G_str in content[:10]:\n",
    "    F_matrix_nadds.append(get_matrix_nadds(F_G_str, 3, field))"
   ]
  },
  {
   "cell_type": "code",
   "execution_count": 16,
   "metadata": {},
   "outputs": [],
   "source": [
    "F_matrix_nadds = '\\n'.join(F_matrix_nadds)\n"
   ]
  },
  {
   "cell_type": "code",
   "execution_count": null,
   "metadata": {},
   "outputs": [],
   "source": [
    "F_matrix_nadds"
   ]
  },
  {
   "cell_type": "code",
   "execution_count": 19,
   "metadata": {},
   "outputs": [],
   "source": [
    "out_path = f'./data/pred_nadds/pred_nadds_n={nvars}_field=GF7/data_GF7_n={nvars}.test.lex.infix.F_matrix_nadds'\n",
    "with open(out_path, 'w') as f:\n",
    "    f.write(F_matrix_nadds)"
   ]
  },
  {
   "cell_type": "code",
   "execution_count": null,
   "metadata": {},
   "outputs": [],
   "source": [
    "import torch\n",
    "\n",
    "A = np.array([1.1, 2.2]).astype(int)\n",
    "B = torch.tensor(A)\n",
    "B.dtype"
   ]
  },
  {
   "cell_type": "code",
   "execution_count": null,
   "metadata": {},
   "outputs": [],
   "source": [
    "def __call__(self, num_additions_list):\n",
    "        num_additions_list = np.array(num_additions_list)\n",
    "\n",
    "        # 多項式加算数がどのレンジにあるかを判定する\n",
    "        labels = np.digitize(num_additions_list, self.bins) - 1 # 最初のbinに含まれるデータのラベルは0\n",
    "\n",
    "\n",
    "        if self.is_soft_labels: # ソフトラベルを取得する\n",
    "            soft_labels = np.zeros((0, self.num_classes))\n",
    "\n",
    "            for label in labels:\n",
    "                soft_labels = np.vstack((soft_labels, self.get_soft_label(label)))\n",
    "\n",
    "            return torch.tensor(soft_labels).float() # 二次元テンソル(データ数 * num_classes)\n",
    "        \n",
    "        else: # ハードラベルを取得する\n",
    "            hard_labels = np.eye(self.num_classes)[labels] # one-hotベクトルに変換\n",
    "            return torch.tensor(hard_labels, dtype=torch.long) # 一次元テンソル(データ数)\n",
    "\n",
    "    def get_soft_label(self, correct_class_id):\n",
    "\n",
    "        assert 0 <= correct_class_id and correct_class_id <= self.num_classes - 1, '0 <= correct_class_id <= num_classes - 1 である必要がある'\n",
    "        \n",
    "        # ソフトマックス関数の処理\n",
    "        diffs = np.ones(self.num_classes) * correct_class_id - np.arange(self.num_classes)\n",
    "        dist = np.abs(diffs)\n",
    "        get_soft_label = np.exp(-dist) / np.sum(np.exp(-dist))\n",
    "\n",
    "        return get_soft_label\n"
   ]
  },
  {
   "cell_type": "code",
   "execution_count": 10,
   "metadata": {},
   "outputs": [],
   "source": [
    "def get_soft_label(correct_class_id, T):\n",
    "\n",
    "        \n",
    "        # ソフトマックス関数の処理\n",
    "        diffs = np.ones(10) * correct_class_id - np.arange(10)\n",
    "        dist = np.abs(diffs)\n",
    "        get_soft_label = np.exp(-dist / T) / np.sum(np.exp(-dist / T))\n",
    "\n",
    "        return get_soft_label"
   ]
  },
  {
   "cell_type": "code",
   "execution_count": 13,
   "metadata": {},
   "outputs": [],
   "source": [
    "import numpy as np\n",
    "soft_labels = np.zeros((0, 10))\n",
    "labels = np.array([1, 2, 3, 4, 5, 6, 7, 8, 9, 0])\n",
    "for label in labels:\n",
    "    soft_labels = np.vstack((soft_labels, get_soft_label(label, 3)))"
   ]
  },
  {
   "cell_type": "code",
   "execution_count": 23,
   "metadata": {},
   "outputs": [
    {
     "data": {
      "image/png": "[encoded data removed]",
      "text/plain": [
       "<Figure size 640x480 with 1 Axes>"
      ]
     },
     "metadata": {},
     "output_type": "display_data"
    }
   ],
   "source": [
    "import matplotlib.pyplot as plt\n",
    "import numpy as np\n",
    "\n",
    "i = 4\n",
    "T = 2\n",
    "soft_labels = np.zeros((0, 10))\n",
    "labels = np.array([1, 2, 3, 4, 5, 6, 7, 8, 9, 0])\n",
    "for label in labels:\n",
    "    soft_labels = np.vstack((soft_labels, get_soft_label(label, T)))\n",
    "\n",
    "\n",
    "plt.bar(range(len(soft_labels[i])), soft_labels[i])\n",
    "plt.xlabel('Class')\n",
    "plt.ylabel('Probability')\n",
    "plt.title('Soft Labels for Label')\n",
    "plt.show()"
   ]
  },
  {
   "cell_type": "code",
   "execution_count": null,
   "metadata": {},
   "outputs": [],
   "source": [
    "def preprocess(F_G_str, field, nvars):\n",
    "    F_str = F_G_str.split(':')[0]\n",
    "    F_str = F_str.strip()\n",
    "    num_tokens_F = int(len(F_str.split()))\n",
    "    F_list = F_str.split('[SEP]')\n",
    "\n",
    "    Ring = PolynomialRing(field, 'x', nvars)\n",
    "    F = [sequence_to_poly(f_str.strip(), Ring) for f_str in F_list] # infix以外はうまくいかない\n",
    "    \n",
    "    return F, F_str, num_tokens_F\n",
    "\n",
    "F_G_str = content[0]\n",
    "F_G_str"
   ]
  },
  {
   "cell_type": "code",
   "execution_count": null,
   "metadata": {},
   "outputs": [],
   "source": [
    "F, F_str, num_tokens_F = preprocess(F_G_str, field, nvars)\n",
    "print(F)\n",
    "print(F_str)\n",
    "print(num_tokens_F)"
   ]
  },
  {
   "cell_type": "code",
   "execution_count": null,
   "metadata": {},
   "outputs": [],
   "source": [
    "s = ['a', '', 'b']\n",
    "\n",
    "'\\n'.join(s)"
   ]
  },
  {
   "cell_type": "code",
   "execution_count": null,
   "metadata": {},
   "outputs": [],
   "source": []
  }
 ],
 "metadata": {
  "kernelspec": {
   "display_name": "Python 3",
   "language": "python",
   "name": "python3"
  },
  "language_info": {
   "codemirror_mode": {
    "name": "ipython",
    "version": 3
   },
   "file_extension": ".py",
   "mimetype": "text/x-python",
   "name": "python",
   "nbconvert_exporter": "python",
   "pygments_lexer": "ipython3",
   "version": "3.10.12"
  }
 },
 "nbformat": 4,
 "nbformat_minor": 2
}
